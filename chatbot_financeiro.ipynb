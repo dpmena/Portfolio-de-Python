{
  "cells": [
    {
      "cell_type": "markdown",
      "metadata": {
        "id": "view-in-github",
        "colab_type": "text"
      },
      "source": [
        "<a href=\"https://colab.research.google.com/github/dpmena/Portfolio-de-Python/blob/main/chatbot_financeiro.ipynb\" target=\"_parent\"><img src=\"https://colab.research.google.com/assets/colab-badge.svg\" alt=\"Open In Colab\"/></a>"
      ]
    },
    {
      "cell_type": "code",
      "source": [
        "import os\n",
        "from pytube import YouTube\n",
        "from youtube_transcript_api import YouTubeTranscriptApi"
      ],
      "metadata": {
        "id": "NZ0kyWhpfUEV"
      },
      "execution_count": 3,
      "outputs": []
    },
    {
      "cell_type": "code",
      "source": [
        "!pip install --upgrade pytube youtube-transcript-api moviepy"
      ],
      "metadata": {
        "colab": {
          "base_uri": "https://localhost:8080/",
          "height": 842
        },
        "id": "ykpS2j2Gd16e",
        "outputId": "634159be-971a-449c-ee0c-1e202865f824",
        "collapsed": true
      },
      "execution_count": null,
      "outputs": [
        {
          "output_type": "stream",
          "name": "stdout",
          "text": [
            "Collecting pytube\n",
            "  Downloading pytube-15.0.0-py3-none-any.whl.metadata (5.0 kB)\n",
            "Collecting youtube-transcript-api\n",
            "  Downloading youtube_transcript_api-0.6.3-py3-none-any.whl.metadata (17 kB)\n",
            "Requirement already satisfied: moviepy in /usr/local/lib/python3.11/dist-packages (1.0.3)\n",
            "Collecting moviepy\n",
            "  Downloading moviepy-2.1.2-py3-none-any.whl.metadata (6.9 kB)\n",
            "Requirement already satisfied: defusedxml<0.8.0,>=0.7.1 in /usr/local/lib/python3.11/dist-packages (from youtube-transcript-api) (0.7.1)\n",
            "Requirement already satisfied: requests in /usr/local/lib/python3.11/dist-packages (from youtube-transcript-api) (2.32.3)\n",
            "Requirement already satisfied: decorator<6.0,>=4.0.2 in /usr/local/lib/python3.11/dist-packages (from moviepy) (4.4.2)\n",
            "Requirement already satisfied: imageio<3.0,>=2.5 in /usr/local/lib/python3.11/dist-packages (from moviepy) (2.37.0)\n",
            "Requirement already satisfied: imageio_ffmpeg>=0.2.0 in /usr/local/lib/python3.11/dist-packages (from moviepy) (0.6.0)\n",
            "Requirement already satisfied: numpy>=1.25.0 in /usr/local/lib/python3.11/dist-packages (from moviepy) (1.26.4)\n",
            "Requirement already satisfied: proglog<=1.0.0 in /usr/local/lib/python3.11/dist-packages (from moviepy) (0.1.10)\n",
            "Collecting python-dotenv>=0.10 (from moviepy)\n",
            "  Downloading python_dotenv-1.0.1-py3-none-any.whl.metadata (23 kB)\n",
            "Collecting pillow<11.0,>=9.2.0 (from moviepy)\n",
            "  Downloading pillow-10.4.0-cp311-cp311-manylinux_2_28_x86_64.whl.metadata (9.2 kB)\n",
            "Requirement already satisfied: tqdm in /usr/local/lib/python3.11/dist-packages (from proglog<=1.0.0->moviepy) (4.67.1)\n",
            "Requirement already satisfied: charset-normalizer<4,>=2 in /usr/local/lib/python3.11/dist-packages (from requests->youtube-transcript-api) (3.4.1)\n",
            "Requirement already satisfied: idna<4,>=2.5 in /usr/local/lib/python3.11/dist-packages (from requests->youtube-transcript-api) (3.10)\n",
            "Requirement already satisfied: urllib3<3,>=1.21.1 in /usr/local/lib/python3.11/dist-packages (from requests->youtube-transcript-api) (2.3.0)\n",
            "Requirement already satisfied: certifi>=2017.4.17 in /usr/local/lib/python3.11/dist-packages (from requests->youtube-transcript-api) (2025.1.31)\n",
            "Downloading pytube-15.0.0-py3-none-any.whl (57 kB)\n",
            "\u001b[2K   \u001b[90m━━━━━━━━━━━━━━━━━━━━━━━━━━━━━━━━━━━━━━━━\u001b[0m \u001b[32m57.6/57.6 kB\u001b[0m \u001b[31m1.7 MB/s\u001b[0m eta \u001b[36m0:00:00\u001b[0m\n",
            "\u001b[?25hDownloading youtube_transcript_api-0.6.3-py3-none-any.whl (622 kB)\n",
            "\u001b[2K   \u001b[90m━━━━━━━━━━━━━━━━━━━━━━━━━━━━━━━━━━━━━━━━\u001b[0m \u001b[32m622.3/622.3 kB\u001b[0m \u001b[31m12.7 MB/s\u001b[0m eta \u001b[36m0:00:00\u001b[0m\n",
            "\u001b[?25hDownloading moviepy-2.1.2-py3-none-any.whl (126 kB)\n",
            "\u001b[2K   \u001b[90m━━━━━━━━━━━━━━━━━━━━━━━━━━━━━━━━━━━━━━━━\u001b[0m \u001b[32m126.7/126.7 kB\u001b[0m \u001b[31m9.8 MB/s\u001b[0m eta \u001b[36m0:00:00\u001b[0m\n",
            "\u001b[?25hDownloading pillow-10.4.0-cp311-cp311-manylinux_2_28_x86_64.whl (4.5 MB)\n",
            "\u001b[2K   \u001b[90m━━━━━━━━━━━━━━━━━━━━━━━━━━━━━━━━━━━━━━━━\u001b[0m \u001b[32m4.5/4.5 MB\u001b[0m \u001b[31m46.5 MB/s\u001b[0m eta \u001b[36m0:00:00\u001b[0m\n",
            "\u001b[?25hDownloading python_dotenv-1.0.1-py3-none-any.whl (19 kB)\n",
            "Installing collected packages: pytube, python-dotenv, pillow, youtube-transcript-api, moviepy\n",
            "  Attempting uninstall: pillow\n",
            "    Found existing installation: pillow 11.1.0\n",
            "    Uninstalling pillow-11.1.0:\n",
            "      Successfully uninstalled pillow-11.1.0\n",
            "  Attempting uninstall: moviepy\n",
            "    Found existing installation: moviepy 1.0.3\n",
            "    Uninstalling moviepy-1.0.3:\n",
            "      Successfully uninstalled moviepy-1.0.3\n",
            "Successfully installed moviepy-2.1.2 pillow-10.4.0 python-dotenv-1.0.1 pytube-15.0.0 youtube-transcript-api-0.6.3\n"
          ]
        },
        {
          "output_type": "display_data",
          "data": {
            "application/vnd.colab-display-data+json": {
              "pip_warning": {
                "packages": [
                  "PIL"
                ]
              },
              "id": "3bc53cb2c59f4a2fbdd1bfe53ce7e039"
            }
          },
          "metadata": {}
        }
      ]
    },
    {
      "cell_type": "code",
      "execution_count": 4,
      "metadata": {
        "colab": {
          "base_uri": "https://localhost:8080/"
        },
        "id": "QbvPuEf-plAA",
        "outputId": "4b597b29-5d11-43e7-efbf-c8d7c123aa84"
      },
      "outputs": [
        {
          "output_type": "stream",
          "name": "stdout",
          "text": [
            "Chatbot Financeiro - Gestão Financeira Simples\n",
            "Digite a sua dúvida sobre finanças ou 'sair' para encerrar.\n",
            "\n",
            "Você:economia\n",
            "Chatbot: Não entendi muito bem. Pode reformular sua pergunta?\n",
            "Você:Como economizar?\n",
            "Chatbot: Para economizar, anote todas as suas despesas e corte gastos desnecessários. Estabeleça uma meta de economia mensal.\n",
            "Você:renda\n",
            "Chatbot: Não entendi muito bem. Pode reformular sua pergunta?\n",
            "Você:renda extra\n",
            "Chatbot: Não entendi muito bem. Pode reformular sua pergunta?\n",
            "Você:como controlo minhas dívidas?\n",
            "Chatbot: Liste suas dívidas, priorize aquelas com juros mais altos e tente negociar condições melhores de pagamento.\n",
            "Você:tchau\n",
            "Chatbot: Foi bom conversar com você! Até mais!\n"
          ]
        }
      ],
      "source": [
        "import spacy\n",
        "# Baixando o modelo de linguagem SpaCy (se necessário)\n",
        "try:\n",
        "  nlp = spacy.load(\"pt_core_news_sm\")\n",
        "except:\n",
        "  import os\n",
        "  os.system(\"python -m spacy download pt_core_news_sm\")\n",
        "  nlp = spacy.load(\"pt_core_news_sm\")\n",
        "def chatbot_financeiro():\n",
        "  print(\"Chatbot Financeiro - Gestão Financeira Simples\")\n",
        "  print(\"Digite a sua dúvida sobre finanças ou 'sair' para encerrar.\\n\")\n",
        "\n",
        "  # Dicionário de palavras-chave e respostas\n",
        "  respostas = {\n",
        "      \"economizar\": \"Para economizar, anote todas as suas despesas e corte gastos desnecessários. Estabeleça uma meta de economia mensal.\",\n",
        "      \"dívida\": \"Liste suas dívidas, priorize aquelas com juros mais altos e tente negociar condições melhores de pagamento.\",\n",
        "      \"orçamento\": \"Um orçamento deve incluir receitas e despesas. Separe gastos essenciais e não essenciais e defina um limite para cada categoria.\",\n",
        "      \"reserva\": \"Uma reserva de emergência é essencial para imprevistos. O ideal é guardar de 3 a 6 meses de despesas.\",\n",
        "      \"investir\": \"Investir faz seu dinheiro crescer e protege contra a inflação. Escolha investimentos de acordo com seus objetivos e perfil de risco\",\n",
        "      \"oi\": \"Oi! Como posso te ajudar hoje?\",\n",
        "      \"olá\": \"Olá! O que posso fazer por você?\",\n",
        "      \"tudo bem\": \"Estou bem, obrigada por perguntar. E você?\",\n",
        "      \"nome\": \"Eu sou um chatbot financeiro!\",\n",
        "      \"vida\": \"O sentido da vida? Ser feliz e ajudar os outros.\",\n",
        "  }\n",
        "\n",
        "  while True:\n",
        "    user_input = input(\"Você:\").strip().lower()\n",
        "\n",
        "    if user_input in [\"sair\", \"tchau\", \"adeus\"]:\n",
        "      print(\"Chatbot: Foi bom conversar com você! Até mais!\")\n",
        "      break\n",
        "\n",
        "    #Processar a frase do usuário com spaCy\n",
        "    doc = nlp(user_input)\n",
        "\n",
        "    resposta_encontrada = None\n",
        "\n",
        "    # Procurar palavras-chave nos tokens do texto\n",
        "    for token in doc:\n",
        "      palavra = token.lemma_ #Obtém o radical da palavra\n",
        "      if palavra in respostas:\n",
        "        resposta_encontrada = respostas[palavra]\n",
        "        break\n",
        "\n",
        "    if resposta_encontrada:\n",
        "      print(f\"Chatbot: {resposta_encontrada}\")\n",
        "    else:\n",
        "      print(\"Chatbot: Não entendi muito bem. Pode reformular sua pergunta?\")\n",
        "\n",
        "# Rodando o chatbot\n",
        "chatbot_financeiro()\n",
        "\n",
        "\n",
        "\n",
        "\n",
        "\n"
      ]
    }
  ],
  "metadata": {
    "colab": {
      "provenance": [],
      "authorship_tag": "ABX9TyNvUKhOM2468rOW915EcKCp",
      "include_colab_link": true
    },
    "kernelspec": {
      "display_name": "Python 3",
      "name": "python3"
    },
    "language_info": {
      "name": "python"
    }
  },
  "nbformat": 4,
  "nbformat_minor": 0
}